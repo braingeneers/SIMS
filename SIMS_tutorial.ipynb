{
  "cells": [
    {
      "cell_type": "markdown",
      "metadata": {
        "id": "4vQBIkvbvLTh"
      },
      "source": [
        "## **SIMS Tutorial**\n",
        "In this tutorial, we will walk through the [SIMS (Scalable, Interpretable Machine Learning for Single Cell)](https://www.cell.com/cell-genomics/fulltext/S2666-979X(24)00165-4) pipeline step by step. SIMS is a deep learning-based tool built on TabNet, a transformer-based model optimized for tabular data. It is designed to classify single-cell RNA sequencing (scRNA-seq) data while providing interpretable predictions.\n",
        "\n",
        "By following this tutorial, you will learn how to:\n",
        "- Download and prepare scRNA-seq data for SIMS\n",
        "- Train a SIMS model to classify cell types\n",
        "- Use the trained model to make predictions on new, unseen data\n",
        "- Evaluate predictions using accuracy metrics and visualization tools\n",
        "\n",
        "\n"
      ]
    },
    {
      "cell_type": "markdown",
      "metadata": {
        "id": "5VBQ2IOZ2vBI"
      },
      "source": [
        "### **Before you begin**\n",
        "The `scsims` package is only compatible with Python versions between 3.8 and 3.11. Run the following cell to ensure you are using a compatible version (we recommend Python 3.9 for optimal performance)."
      ]
    },
    {
      "cell_type": "code",
      "execution_count": 1,
      "metadata": {
        "id": "Ttl01qww2tSU"
      },
      "outputs": [
        {
          "name": "stdout",
          "output_type": "stream",
          "text": [
            "Python 3.9.6\n"
          ]
        }
      ],
      "source": [
        "!python --version"
      ]
    },
    {
      "cell_type": "markdown",
      "metadata": {
        "id": "Edu0ONPZwssS"
      },
      "source": [
        "If you're running this notebook for the first time, uncomment and execute the following line to **install the required packages:**"
      ]
    },
    {
      "cell_type": "code",
      "execution_count": 12,
      "metadata": {},
      "outputs": [],
      "source": [
        "# !pip install --use-pep517 git+https://github.com/braingeneers/SIMS.git"
      ]
    },
    {
      "cell_type": "markdown",
      "metadata": {},
      "source": [
        "Once the packages are installed, we can **import them:**"
      ]
    },
    {
      "cell_type": "code",
      "execution_count": 17,
      "metadata": {
        "collapsed": true,
        "id": "vgVLLQKsutZh"
      },
      "outputs": [],
      "source": [
        "import scanpy as sc\n",
        "import pandas as pd\n",
        "import anndata as ad\n",
        "import os\n",
        "import torch\n",
        "from scsims import SIMS\n",
        "from pytorch_lightning.callbacks import EarlyStopping, ModelCheckpoint\n",
        "from sklearn.model_selection import train_test_split"
      ]
    },
    {
      "cell_type": "markdown",
      "metadata": {},
      "source": [
        "### **Step 1: Prepare data**\n",
        "\n",
        "Before we can train our model, we need to prepare the data. This involves several key steps to ensure that the dataset is structured correctly and optimized for machine learning."
      ]
    },
    {
      "cell_type": "markdown",
      "metadata": {
        "id": "o87__CAvvmAW"
      },
      "source": [
        "#### `1.a` Download data\n",
        "The dataset we are using comes from a study published in eLife by Domingo-Gonzalez et al. (2020). This study investigated immune cells in the developing mouse lung at single-cell resolution. It contains only 4,052 cells, making it ideal for this notebook (large enough for meaningful training but small enough for computational efficiency).\n",
        "\n",
        "🔗 Source:\n",
        "\n",
        "- [UCSC Cell Browser website](https://cells.ucsc.edu/?bp=lung&org=Mouse+(M.+musculus)) – where we download the dataset.\n",
        "- [Domingo-Gonzalez et al., 2020 (eLife)](https://elifesciences.org/articles/56890) – original study providing the data."
      ]
    },
    {
      "cell_type": "code",
      "execution_count": 3,
      "metadata": {
        "colab": {
          "base_uri": "https://localhost:8080/"
        },
        "id": "WYnJGosSvdz6",
        "outputId": "7f1933d5-a9a2-4023-fa9c-a88baad5af1b"
      },
      "outputs": [
        {
          "name": "stdout",
          "output_type": "stream",
          "text": [
            "  % Total    % Received % Xferd  Average Speed   Time    Time     Time  Current\n",
            "                                 Dload  Upload   Total   Spent    Left  Speed\n",
            "100 24.1M  100 24.1M    0     0  3239k      0  0:00:07  0:00:07 --:--:-- 3581k --:--:--     0\n",
            "  % Total    % Received % Xferd  Average Speed   Time    Time     Time  Current\n",
            "                                 Dload  Upload   Total   Spent    Left  Speed\n",
            "100  748k  100  748k    0     0  2052k      0 --:--:-- --:--:-- --:--:-- 2057k\n"
          ]
        }
      ],
      "source": [
        "!curl -O https://cells.ucsc.edu/mouse-lung-immune/exprMatrix.tsv.gz\n",
        "!curl -O https://cells.ucsc.edu/mouse-lung-immune/meta.tsv"
      ]
    },
    {
      "cell_type": "markdown",
      "metadata": {
        "id": "bJscEWnzw-SO"
      },
      "source": [
        "#### `1.b` Load the Anndata object\n",
        "In this step, we will load the gene expression matrix and associated metadata, clean the data, and convert it into an AnnData object for further processing."
      ]
    },
    {
      "cell_type": "code",
      "execution_count": 4,
      "metadata": {
        "colab": {
          "base_uri": "https://localhost:8080/"
        },
        "id": "UBFZxH_7xCiH",
        "outputId": "37abe71d-838e-4e19-c77b-98a9cfb97af5"
      },
      "outputs": [
        {
          "name": "stdout",
          "output_type": "stream",
          "text": [
            "AnnData object with n_obs × n_vars = 4052 × 18072\n",
            "    obs: 'title', 'Sequencing run', 'Gender', 'Plate', 'Well', 'Timepoint', 'Cell Subtype', 'Mousename', 'Coverage', 'Number of genes', 'raw file 1', 'raw file 2'\n"
          ]
        }
      ],
      "source": [
        "# Load expression matrix\n",
        "expr_matrix = pd.read_csv(\"exprMatrix.tsv.gz\", sep=\"\\t\", index_col=0)\n",
        "\n",
        "# Load metadata\n",
        "meta = pd.read_csv(\"meta.tsv\", sep=\"\\t\", index_col=0)\n",
        "\n",
        "# This particular dataset stores gene names in a 'GENE|GENE' format\n",
        "# This step removes duplicate gene names if they exist\n",
        "if \"|\" in expr_matrix.index[0]:\n",
        "    expr_matrix.index = expr_matrix.index.str.split('|').str[0]\n",
        "\n",
        "# Transpose to make cells as rows and genes as columns (CELL x GENE)\n",
        "expr_matrix = expr_matrix.T\n",
        "\n",
        "# Ensure indices match\n",
        "expr_matrix = expr_matrix.loc[meta.index]\n",
        "\n",
        "# Create AnnData object\n",
        "adata = ad.AnnData(expr_matrix)\n",
        "\n",
        "# Add metadata to AnnData object\n",
        "adata.obs = meta\n",
        "\n",
        "# Show basic info\n",
        "print(adata)"
      ]
    },
    {
      "cell_type": "markdown",
      "metadata": {},
      "source": [
        "#### `1.c` Select target feature\n",
        "In this example dataset, cell type labels are stored in the 'Cell Subtype' column, so we will remove other columns as they are not needed for training.\n",
        "\n",
        "🔹 **Note:** If you're using a different dataset, replace 'Cell Subtype' with the appropriate column that contains your cell type annotations. Run `adata.obs.columns` to check available columns in your dataset before selecting the target feature."
      ]
    },
    {
      "cell_type": "code",
      "execution_count": 5,
      "metadata": {
        "colab": {
          "base_uri": "https://localhost:8080/"
        },
        "id": "MkxzgZVkxgoe",
        "outputId": "ed7e7157-90f8-429f-8b2f-5907144a9653"
      },
      "outputs": [
        {
          "name": "stdout",
          "output_type": "stream",
          "text": [
            "Cell types:  ['NK cell' 'T cell' 'B cell' 'Mac III' 'neutrophil' 'IL cell' 'Mac V'\n",
            " 'basophil' 'Mac II' 'mast cell' 'Mac IV' 'DC III' 'DC II' 'DC I' 'Mac I']\n"
          ]
        }
      ],
      "source": [
        "class_label = 'Cell Subtype' \n",
        "\n",
        "adata.obs = adata.obs[[class_label]] # Filter out other columns\n",
        "unique_classes = adata.obs[class_label].unique()\n",
        "print(\"Cell types: \", unique_classes)"
      ]
    },
    {
      "cell_type": "markdown",
      "metadata": {
        "id": "WZgjeu742EV1"
      },
      "source": [
        "#### `1.d` Preprocess the data\n",
        "Now we need to preprocess the data to ensure it is clean, normalized, and ready for model training. \n",
        "\n",
        "🔹 **Important:** The same preprocessing steps must be applied consistently to both the training dataset and any new data used for inference to ensure compatibility."
      ]
    },
    {
      "cell_type": "code",
      "execution_count": 6,
      "metadata": {
        "id": "K3_3a16_2Iu6"
      },
      "outputs": [],
      "source": [
        "# Perform some light filtering\n",
        "sc.pp.filter_cells(adata, min_genes=100)\n",
        "sc.pp.filter_genes(adata, min_cells=3)\n",
        "\n",
        "# Transform the data for model ingestion\n",
        "sc.pp.normalize_total(adata) \n",
        "sc.pp.log1p(adata)\n",
        "sc.pp.scale(adata)"
      ]
    },
    {
      "cell_type": "markdown",
      "metadata": {},
      "source": [
        "#### `1.e` Split data\n",
        "In real-world applications, SIMS is typically used with two datasets: a **labeled** dataset for training and an **unlabeled** dataset for generating predictions. Since we don't have a separate unlabeled dataset for this example, we'll split our labeled dataset into a **training set** (used to train the model) and a **test set** (used to evaluate its performance). This allows us to assess how well SIMS generalizes to unseen data.\n",
        "\n",
        "🔹 **Note:** If you are using your own dataset, do not split it. Instead, load your test data separately during the prediction step. Make sure to preprocess your test data using the same steps applied to your training data to maintain consistency and avoid errors."
      ]
    },
    {
      "cell_type": "code",
      "execution_count": 7,
      "metadata": {},
      "outputs": [],
      "source": [
        "# Split cells into train and test (ex: 80% train, 20% test)\n",
        "train_cells, test_cells = train_test_split(adata.obs_names, test_size=0.2, random_state=42)\n",
        "\n",
        "# Create training and \"unlabeled\" test datasets\n",
        "adata_train = adata[train_cells].copy()\n",
        "adata_test = adata[test_cells].copy()"
      ]
    },
    {
      "cell_type": "markdown",
      "metadata": {},
      "source": [
        "### **Step 2: Train the model with SIMS**\n",
        "Now that our dataset is preprocessed, we can train a machine learning model using SIMS. SIMS is built on [TabNet](https://arxiv.org/abs/1908.07442), a deep learning architecture optimized for tabular data. It allows us to classify immune cells based on gene expression while maintaining model interpretability."
      ]
    },
    {
      "cell_type": "markdown",
      "metadata": {},
      "source": [
        "#### `2.a` Initialize SIMS model\n",
        "We first create a SIMS object using the training dataset (`adata_train`) and specify the cell type label column:"
      ]
    },
    {
      "cell_type": "code",
      "execution_count": 8,
      "metadata": {},
      "outputs": [
        {
          "name": "stdout",
          "output_type": "stream",
          "text": [
            "Numerically encoding class labels\n",
            "Calculating weights\n"
          ]
        }
      ],
      "source": [
        "sims = SIMS(data=adata_train, class_label=class_label)"
      ]
    },
    {
      "cell_type": "markdown",
      "metadata": {},
      "source": [
        "#### `2.b` Set up model parameters\n",
        "Next, we configure the model using setup_model():"
      ]
    },
    {
      "cell_type": "code",
      "execution_count": 9,
      "metadata": {},
      "outputs": [
        {
          "name": "stdout",
          "output_type": "stream",
          "text": [
            "Setting up model ...\n",
            "Initializing network\n",
            "Initializing explain matrix\n"
          ]
        }
      ],
      "source": [
        "sims.setup_model(n_a=64, n_d=64, weights=sims.weights)"
      ]
    },
    {
      "cell_type": "markdown",
      "metadata": {},
      "source": [
        "- `n_a=64` and `n_d=64` define the number of attention and decision steps in the TabNet architecture.\n",
        "- `weights=sims.weights` ensures that the model adjusts for imbalanced cell types by weighting the loss inversely to label frequency. This helps the model learn rare cell types more effectively."
      ]
    },
    {
      "cell_type": "markdown",
      "metadata": {},
      "source": [
        "#### `2.c` Define Checkpointing Strategy\n",
        "Since training deep learning models takes time, we save the best version using a checkpointing system:"
      ]
    },
    {
      "cell_type": "code",
      "execution_count": 10,
      "metadata": {},
      "outputs": [],
      "source": [
        "checkpoint_callback = ModelCheckpoint(\n",
        "    dirpath=\"./sims\",           # Save in the notebook's current directory\n",
        "    filename=\"sims_model\",  # File will be saved as 'sims_model.ckpt'\n",
        "    save_top_k=1,           # Keep only the best checkpoint\n",
        "    monitor=\"val_loss\",     # Save the best model based on validation loss\n",
        "    mode=\"min\",             # Lower validation loss is better\n",
        ")"
      ]
    },
    {
      "cell_type": "markdown",
      "metadata": {},
      "source": [
        "#### `2.d` Configure the Training Process\n",
        "We set up the training loop using a PyTorch Lightning trainer:\n"
      ]
    },
    {
      "cell_type": "code",
      "execution_count": 15,
      "metadata": {},
      "outputs": [
        {
          "name": "stdout",
          "output_type": "stream",
          "text": [
            "Setting up trainer ...\n"
          ]
        }
      ],
      "source": [
        "sims.setup_trainer(\n",
        "    callbacks=[\n",
        "        EarlyStopping(monitor=\"val_loss\", patience=50), # Stop training if validation loss does not improve for 50 epochs\n",
        "        checkpoint_callback, # Save the best model\n",
        "    ],\n",
        "    max_epochs=50,      # Complete training cycles through the dataset, can increase\n",
        "    accelerator=\"cpu\",  # Forces training on CPU, can switch to GPU/MPS if available\n",
        "    devices=1,          # Uses one CPU/GPU device\n",
        "    logger=False,       # Disable/enable logging\n",
        ")\n"
      ]
    },
    {
      "cell_type": "markdown",
      "metadata": {},
      "source": [
        "🔹 **Note:** Weights & Biases (WandB) logging has been disabled in this example for simplicity. However, if you want to use WandB logging, follow these steps **before configuring the training process** (in the previous cell):\n",
        "1. Import WandbLogger: `from pytorch_lightning.loggers import WandbLogger`\n",
        "2. Initialize and set offline to True: `logger = WandbLogger(offline=True)` \n",
        "3. In `sims.setup_trainer()`, change code below to `logger=logger`"
      ]
    },
    {
      "cell_type": "markdown",
      "metadata": {},
      "source": [
        "#### `2.e` Train and save model\n",
        "Once everything is set up, we train the model with:"
      ]
    },
    {
      "cell_type": "code",
      "execution_count": 16,
      "metadata": {},
      "outputs": [
        {
          "name": "stdout",
          "output_type": "stream",
          "text": [
            "Beginning training\n",
            "Calculating weights\n",
            "Initializing with optimizer = Adam (\n",
            "Parameter Group 0\n",
            "    amsgrad: False\n",
            "    betas: (0.9, 0.999)\n",
            "    capturable: False\n",
            "    differentiable: False\n",
            "    eps: 1e-08\n",
            "    foreach: None\n",
            "    fused: False\n",
            "    lr: 0.01\n",
            "    maximize: False\n",
            "    weight_decay: 0.01\n",
            ")\n",
            "Initializating with scheduler = <torch.optim.lr_scheduler.ReduceLROnPlateau object at 0x33b669880>\n",
            "Epoch 49: 100%|██████████| 65/65 [00:08<00:00,  7.50it/s]                  \n",
            "Finished training\n"
          ]
        }
      ],
      "source": [
        "sims.train()"
      ]
    },
    {
      "cell_type": "markdown",
      "metadata": {},
      "source": [
        "After training, we verify that a trained model was saved:"
      ]
    },
    {
      "cell_type": "code",
      "execution_count": 14,
      "metadata": {},
      "outputs": [
        {
          "name": "stdout",
          "output_type": "stream",
          "text": [
            "Saved model: ['sims_model.ckpt']\n"
          ]
        }
      ],
      "source": [
        "print(\"Saved model:\", [f for f in os.listdir() if f.endswith(\".ckpt\")])"
      ]
    },
    {
      "cell_type": "markdown",
      "metadata": {},
      "source": [
        "### **Step 3: Predict on new data with trained model**"
      ]
    },
    {
      "cell_type": "markdown",
      "metadata": {},
      "source": [
        "#### `3.a` Load the Trained Model\n",
        "To make predictions, we first load the trained SIMS model from the checkpoint:"
      ]
    },
    {
      "cell_type": "code",
      "execution_count": 15,
      "metadata": {},
      "outputs": [
        {
          "name": "stdout",
          "output_type": "stream",
          "text": [
            "Initializing network\n",
            "Initializing explain matrix\n"
          ]
        }
      ],
      "source": [
        "sims = SIMS(weights_path=\"sims_model.ckpt\", map_location=torch.device('cpu'))"
      ]
    },
    {
      "cell_type": "markdown",
      "metadata": {},
      "source": [
        "- `weights_path=\"sims_model.ckpt\"` loads the model checkpoint.\n",
        "- `map_location=torch.device('cpu')` ensures the model runs on CPU (set to \"cuda\" if using a GPU)."
      ]
    },
    {
      "cell_type": "markdown",
      "metadata": {},
      "source": [
        "#### `3.b` Predict cell types\n",
        "We then use the model to predict cell types for the test dataset (`adata_test`). This returns a DataFrame containing predicted labels for each cell."
      ]
    },
    {
      "cell_type": "code",
      "execution_count": 16,
      "metadata": {},
      "outputs": [
        {
          "name": "stdout",
          "output_type": "stream",
          "text": [
            "Parsing inference data...\n"
          ]
        },
        {
          "name": "stderr",
          "output_type": "stream",
          "text": [
            "100%|██████████| 26/26 [00:32<00:00,  1.23s/it]\n"
          ]
        }
      ],
      "source": [
        "cell_predictions = sims.predict(adata_test)"
      ]
    },
    {
      "cell_type": "markdown",
      "metadata": {},
      "source": [
        "#### `3.c` Align predictions with cell names, add predictions to AnnData object, and view\n",
        "To ensure that the predictions are correctly indexed, we align them with `adata_test.obs_names`. We then merge the predictions with the metadata of the test dataset (`adata_test.obs`) and can view the predictions."
      ]
    },
    {
      "cell_type": "code",
      "execution_count": 17,
      "metadata": {},
      "outputs": [
        {
          "name": "stdout",
          "output_type": "stream",
          "text": [
            "                               Cell Subtype  n_genes      pred_0  pred_1   \n",
            "M_P21_normal_CD45_2_DC36_B1          B cell     2513      B cell  Mac II  \\\n",
            "F_P7_normal_CD45_1_DC20_I12      neutrophil     1181  neutrophil   Mac I   \n",
            "M_P1_normal_CD45_2_DC35_B3            Mac V     3384       Mac V    DC I   \n",
            "M_E18.5_normal_CD45_2_DC35_D22       Mac II     3149      Mac II   Mac I   \n",
            "M_P1_normal_CD45_1_DC35_M10      neutrophil     1259  neutrophil   Mac I   \n",
            "\n",
            "                                 pred_2    prob_0    prob_1    prob_2  \n",
            "M_P21_normal_CD45_2_DC36_B1     IL cell  0.933107  0.050598  0.016295  \n",
            "F_P7_normal_CD45_1_DC20_I12     NK cell  0.854346  0.091639  0.054015  \n",
            "M_P1_normal_CD45_2_DC35_B3       Mac IV  0.638564  0.187885  0.173551  \n",
            "M_E18.5_normal_CD45_2_DC35_D22   Mac IV  0.832520  0.107359  0.060121  \n",
            "M_P1_normal_CD45_1_DC35_M10     NK cell  0.862213  0.087000  0.050787  \n"
          ]
        }
      ],
      "source": [
        "cell_predictions.index = adata_test.obs_names  # Align predictions with `adata_test`\n",
        "adata_test.obs = adata_test.obs.join(cell_predictions, rsuffix='_pred')\n",
        "print(adata_test.obs.head())"
      ]
    },
    {
      "cell_type": "markdown",
      "metadata": {},
      "source": [
        "### **Step 4: Evaluate and visualize**\n",
        "Once we have predicted cell types, we can evaluate how well the model performed. Each of these steps is optional.\n",
        "\n",
        "#### `4.a` Calculate model accuracy\n",
        "We compute accuracy, which measures the proportion of correctly classified cells:   "
      ]
    },
    {
      "cell_type": "code",
      "execution_count": 18,
      "metadata": {},
      "outputs": [
        {
          "name": "stdout",
          "output_type": "stream",
          "text": [
            "Model Accuracy: 0.92\n"
          ]
        }
      ],
      "source": [
        "from sklearn.metrics import accuracy_score\n",
        "accuracy = accuracy_score(adata_test.obs[class_label], adata_test.obs[\"pred_0\"])\n",
        "print(f\"Model Accuracy: {accuracy:.2f}\")"
      ]
    },
    {
      "cell_type": "markdown",
      "metadata": {},
      "source": [
        "#### `4.b` Generate a classification report\n",
        "A classification report provides detailed performance metrics for each cell type, such as: \n",
        "- Precision – How many of the predicted cells are actually correct?\n",
        "- Recall – How many of the true cells were correctly classified?\n",
        "- F1-score – A balanced metric combining precision and recall."
      ]
    },
    {
      "cell_type": "code",
      "execution_count": 21,
      "metadata": {},
      "outputs": [
        {
          "name": "stdout",
          "output_type": "stream",
          "text": [
            "              precision    recall  f1-score   support\n",
            "\n",
            "      B cell       1.00      0.98      0.99       132\n",
            "        DC I       0.75      1.00      0.86         9\n",
            "       DC II       0.69      0.90      0.78        10\n",
            "      DC III       0.00      0.00      0.00         6\n",
            "     IL cell       0.53      0.89      0.67         9\n",
            "       Mac I       0.96      0.85      0.90       142\n",
            "      Mac II       0.69      0.92      0.79        65\n",
            "     Mac III       0.97      0.86      0.91        36\n",
            "      Mac IV       0.96      0.98      0.97        46\n",
            "       Mac V       0.99      0.95      0.97       152\n",
            "     NK cell       0.90      0.75      0.82        24\n",
            "      T cell       0.91      0.98      0.94        61\n",
            "    basophil       0.88      1.00      0.94        15\n",
            "   mast cell       0.00      0.00      0.00         2\n",
            "  neutrophil       0.99      0.99      0.99       102\n",
            "\n",
            "    accuracy                           0.92       811\n",
            "   macro avg       0.75      0.80      0.77       811\n",
            "weighted avg       0.93      0.92      0.92       811\n",
            "\n"
          ]
        }
      ],
      "source": [
        "from sklearn.metrics import classification_report\n",
        "\n",
        "report = classification_report(\n",
        "    adata_test.obs[class_label], \n",
        "    adata_test.obs[\"pred_0\"], \n",
        "    zero_division=0  # Set to 0 instead of raising a warning\n",
        ")\n",
        "print(report)\n"
      ]
    },
    {
      "cell_type": "markdown",
      "metadata": {},
      "source": [
        "#### `4.c` Compute and visualize confusion matrix\n",
        "To see how predictions compare to actual labels, we compute a confusion matrix, where: \n",
        "- Each row represents actual cell types.\n",
        "- Each column represents predicted cell types.\n",
        "- Diagonal values indicate correct classifications, while off-diagonal values show misclassifications."
      ]
    },
    {
      "cell_type": "code",
      "execution_count": 22,
      "metadata": {},
      "outputs": [
        {
          "data": {
            "image/png": "[encoded data removed]",
            "text/plain": [
              "<Figure size 800x600 with 2 Axes>"
            ]
          },
          "metadata": {},
          "output_type": "display_data"
        }
      ],
      "source": [
        "from sklearn.metrics import confusion_matrix\n",
        "import matplotlib.pyplot as plt\n",
        "import seaborn as sns\n",
        "\n",
        "# Compute confusion matrix\n",
        "cm = confusion_matrix(adata_test.obs[class_label], adata_test.obs[\"pred_0\"])\n",
        "\n",
        "# Normalize by row (convert counts to percentages)\n",
        "cm_normalized = cm.astype(\"float\") / cm.sum(axis=1, keepdims=True)\n",
        "\n",
        "# Get all unique cell types\n",
        "labels = sorted(adata_test.obs[class_label].unique())\n",
        "\n",
        "# Plot normalized confusion matrix\n",
        "plt.figure(figsize=(8, 6))\n",
        "sns.heatmap(cm_normalized, annot=True, fmt=\".2f\", xticklabels=labels, yticklabels=labels, cmap=\"Blues\")\n",
        "\n",
        "# Add labels and title\n",
        "plt.xlabel(\"Predicted\")\n",
        "plt.ylabel(\"True\")\n",
        "plt.title(\"Normalized Confusion Matrix (Row Percentage)\")\n",
        "plt.show()"
      ]
    },
    {
      "cell_type": "markdown",
      "metadata": {},
      "source": [
        "### **Step 5: View Explainability**\n",
        "\n",
        "Interpreting machine learning models is critical, especially in biological research, where understanding why a model makes predictions can reveal important biological insights. SIMS uses TabNet's built-in explainability to identify which genes contribute most to its predictions.\n",
        "\n",
        "The explainability matrix assigns an importance score to each gene based on how much it influenced the model's classification decisions. This allows us to determine the top contributing genes and assess whether they align with known biological markers.\n",
        "\n",
        "#### `5.a` Generate the Explainability Matrix\n",
        "We will use `sims.explain()` to compute feature importance scores for each gene. This produces an explainability matrix, where each value represents how much a specific gene contributed to the model’s classification decision for a given cell. We then convert it to a pandas DataFrame for easy manipulation and compute the average importance score for each gene across all cells."
      ]
    },
    {
      "cell_type": "code",
      "execution_count": 37,
      "metadata": {},
      "outputs": [
        {
          "name": "stdout",
          "output_type": "stream",
          "text": [
            "Computing explainability matrix ...\n"
          ]
        },
        {
          "name": "stderr",
          "output_type": "stream",
          "text": [
            "100%|██████████| 26/26 [00:02<00:00, 10.52it/s]\n"
          ]
        }
      ],
      "source": [
        "# Run explainability analysis\n",
        "explainability_matrix = sims.explain(adata_test, num_workers=0, batch_size=32)[0]\n",
        "\n",
        "# Convert explainability matrix to a DataFrame\n",
        "explain_df = pd.DataFrame(explainability_matrix, columns=sims.model.genes)\n",
        "\n",
        "# Compute average gene importance\n",
        "gene_importance = explain_df.mean(axis=0)"
      ]
    },
    {
      "cell_type": "markdown",
      "metadata": {},
      "source": [
        "#### `5.b` View most influential genes\n",
        "Now that we have computed gene importance scores, we can identify and print the top n most influential genes (the ones that contributed the most to the model’s classification decisions)."
      ]
    },
    {
      "cell_type": "code",
      "execution_count": 38,
      "metadata": {},
      "outputs": [
        {
          "name": "stdout",
          "output_type": "stream",
          "text": [
            "Top 10 most important genes:\n",
            "Lsr         1.061564\n",
            "Ddx19b      0.953902\n",
            "Bcas3os1    0.895592\n",
            "Mgat5       0.885213\n",
            "Snord32a    0.871906\n",
            "Shtn1       0.844958\n",
            "Otulin      0.811020\n",
            "Ltn1        0.740239\n",
            "Ear1        0.432400\n",
            "Lsm5        0.336838\n",
            "dtype: float64\n"
          ]
        }
      ],
      "source": [
        "\n",
        "top10_genes = gene_importance.nlargest(10) # Can increase to top 20, 30, etc.\n",
        "print(\"Top 10 most important genes:\")\n",
        "print(top10_genes)"
      ]
    }
  ],
  "metadata": {
    "colab": {
      "provenance": []
    },
    "kernelspec": {
      "display_name": "Python (sims_env)",
      "language": "python",
      "name": "sims_env"
    },
    "language_info": {
      "codemirror_mode": {
        "name": "ipython",
        "version": 3
      },
      "file_extension": ".py",
      "mimetype": "text/x-python",
      "name": "python",
      "nbconvert_exporter": "python",
      "pygments_lexer": "ipython3",
      "version": "3.9.18"
    }
  },
  "nbformat": 4,
  "nbformat_minor": 0
}
